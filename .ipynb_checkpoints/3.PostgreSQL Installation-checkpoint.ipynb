{
 "cells": [
  {
   "cell_type": "markdown",
   "metadata": {},
   "source": [
    "We'll walk through how to install the PostgreSQL database system and the psycopg2 Python library for Windows, Mac, and Linux. We'll be focusing on installing and running PostgreSQL locally on our own machine instead of on a remote server."
   ]
  },
  {
   "cell_type": "markdown",
   "metadata": {},
   "source": [
    "First things first, let's install PostgreSQL. During the setup process, we'll be asked to specify a default username and password. Select a username and password combination we'll remember since we're only installing PostgreSQL locally and don't need a highly secure combination."
   ]
  },
  {
   "cell_type": "markdown",
   "metadata": {},
   "source": [
    "Also during installation, we may be asked to specify a port number. Even though PostgreSQL will be running on the same machine, other applications communciate with it through the port as if it were on a remote machine. Port number 5432 is the default for PostgreSQL."
   ]
  },
  {
   "cell_type": "markdown",
   "metadata": {},
   "source": [
    "Here are the installation instructions for each operating system:\n",
    "\n",
    "# Mac:\n",
    "\n",
    "* Download Postgres.app [here](https://postgresapp.com/), move to the Applications folder, and double click to launch. This applications runs in the background and you'll need it to be running to connect to it from Python. By default, PostgreSQL will run on port 5432.\n",
    "* Add the following line to the end of ~/.bash_profile:\n",
    "    * export PATH=$PATH:/Applications/Postgres.app/Contents/Versions/latest/bin\n",
    "    \n",
    "* Reset your terminal by executing source ~./bash_profile\n"
   ]
  },
  {
   "cell_type": "markdown",
   "metadata": {},
   "source": [
    "# Windows\n",
    "\n",
    "* Download the latest Windows installer [here](http://www.bigsql.org/postgresql/installers.jsp/), double click the installer, and go through the installation wizard.\n",
    "* When asked for a port number, use 5432.\n",
    "\n",
    "# Linux:\n",
    "\n",
    "Read the installation directions for your specific flavor of Linux from the [official documentation](https://www.postgresql.org/download/linux/).\n",
    "If asked for a port number, use 5432."
   ]
  },
  {
   "cell_type": "markdown",
   "metadata": {},
   "source": [
    "To test installation, open command line application, type psql, and we should be in the PostgreSQL shell. By default user and database are postgres"
   ]
  },
  {
   "cell_type": "markdown",
   "metadata": {},
   "source": [
    "To login with the username, simply type psql -U (your username). For example, if we're trying to access the database under user \"myuser\", we would use the following psql login command: psql -U myuser. After we execute the command, enter the password, when prompted, to successfully connect to the desired database."
   ]
  },
  {
   "cell_type": "code",
   "execution_count": null,
   "metadata": {},
   "outputs": [],
   "source": []
  }
 ],
 "metadata": {
  "kernelspec": {
   "display_name": "Python 3",
   "language": "python",
   "name": "python3"
  },
  "language_info": {
   "codemirror_mode": {
    "name": "ipython",
    "version": 3
   },
   "file_extension": ".py",
   "mimetype": "text/x-python",
   "name": "python",
   "nbconvert_exporter": "python",
   "pygments_lexer": "ipython3",
   "version": "3.7.1"
  }
 },
 "nbformat": 4,
 "nbformat_minor": 2
}
