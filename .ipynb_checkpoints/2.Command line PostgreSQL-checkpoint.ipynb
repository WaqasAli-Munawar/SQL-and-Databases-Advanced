{
 "cells": [
  {
   "cell_type": "markdown",
   "metadata": {},
   "source": [
    "We'll learn how to work with the PostgreSQL command line tool, called `psql`.\n",
    "\n",
    "* Start the PostgreSQL command line tool by typing `psql -U postgres`. By default it will open default database i.e **postgres**. if we want to login in other database we can type `psql -U user -d database`. For example `psql -U asad -d bank_account`\n",
    "* Exit psql by typing `\\q`.\n"
   ]
  },
  {
   "cell_type": "markdown",
   "metadata": {},
   "source": [
    "[psql](https://www.postgresql.org/docs/9.4/app-psql.html) is similar to the **sqlite3** command line tool in that it allows us to connect to and manage databases. `psql` connects to a running PostgreSQL server process, that enables us to:\n",
    "\n",
    "* Run queries.\n",
    "* Manage users and permissions.\n",
    "* Manage databases.\n",
    "* See PostgreSQL system information."
   ]
  },
  {
   "cell_type": "markdown",
   "metadata": {},
   "source": [
    "By default, `psql` will connect to a **PostgreSQL server** running on the current computer, using port `5432`. \n",
    "\n",
    "If we don't specify a **user** and **database** to connect to, it will use the defaults. By default, the **name of the currently logged in system user** will be used as both the **PostgreSQL user name and database name**."
   ]
  },
  {
   "cell_type": "markdown",
   "metadata": {},
   "source": [
    "If we're logged in to a computer as the **system user**, then type`psql`, will connect to the database as a **PostgreSQL user** "
   ]
  },
  {
   "cell_type": "markdown",
   "metadata": {},
   "source": [
    "After starting the psql command line tool, we can run SQL queries. Any valid SQL query will be executed. Because the psql shell is about giving instant feedback, transactions don't apply, and each command we type is immediately executed. This allows us to quickly test out queries and get results.\n",
    "\n",
    "Since creating a database is one SQL query, we can do it via psql. We may recall that the syntax to create a database is like the following:\n",
    "\n",
    "`CREATE DATABASE dbName;`\n",
    "\n",
    "Queries in psql must end with a semicolon (`;`), or they won't be performed."
   ]
  },
  {
   "cell_type": "code",
   "execution_count": null,
   "metadata": {},
   "outputs": [],
   "source": [
    "# CREATE DATABASE bank_accounts;"
   ]
  },
  {
   "cell_type": "markdown",
   "metadata": {},
   "source": [
    "We can run several special commands using psql. These commands start with a backslash (`\\`), and can perform a variety of functions, including:\n",
    "\n",
    "* Listing databases\n",
    "* Listing tables\n",
    "* Managing users\n",
    "\n",
    "We can see a full list of all of the special functions by running **`\\?`** after starting psql. We'll need to type **q** to exit the resulting help interface. We can also find the full list [here](https://www.postgresql.org/docs/9.4/app-psql.html).\n",
    "\n",
    "Three common functions to run are:\n",
    "\n",
    "* `\\l` -- list all available databases.\n",
    "* `\\dt` -- list all tables in the current database.\n",
    "* `\\du` -- list users."
   ]
  },
  {
   "cell_type": "markdown",
   "metadata": {},
   "source": [
    "When we're connected to a specific SQL database, we can only create tables within that database, and run queries on tables in that database."
   ]
  },
  {
   "cell_type": "markdown",
   "metadata": {},
   "source": [
    "We can connect to a different database using the `-d` option of psql. If we wanted to connect to a database called `bank_accounts`, we could use the following command:\n",
    "\n",
    "`psql -d bank_accounts` or `\\c bank_accounts` here `c` refers `connect`. \n",
    "\n",
    "`psql -d bank_accounts CREATE TABLE deposits (\n",
    "    id integer PRIMARY KEY,\n",
    "    name text,\n",
    "    amount float\n",
    ");`"
   ]
  },
  {
   "cell_type": "markdown",
   "metadata": {},
   "source": [
    "* Start psql and connect to the `bank_accounts` database.\n",
    "* Create a table called **deposits** in `bank_accounts` with the following columns:\n",
    "    * id, integer, primary key\n",
    "    * name, text\n",
    "    * amount, float\n",
    "    \n",
    "* Use the `\\dt` command to list all of the tables in **bank_accounts**.\n",
    "\n",
    "`psql -d bank_accounts CREATE TABLE deposits (\n",
    "    id integer PRIMARY KEY,\n",
    "    name text,\n",
    "    amount float\n",
    ");`"
   ]
  },
  {
   "cell_type": "markdown",
   "metadata": {},
   "source": [
    "In order to manage access to different databases, we can also create users. Users will be able to log into a PostgreSQL database and run queries.\n",
    "\n",
    "`CREATE ROLE userName;`"
   ]
  },
  {
   "cell_type": "markdown",
   "metadata": {},
   "source": [
    "By default, the user isn't allowed to login to PostgreSQL and run queries. We can fix this by adding the` WITH` and `LOGIN` statements:\n",
    "\n",
    "`CREATE ROLE userName WITH LOGIN;`"
   ]
  },
  {
   "cell_type": "markdown",
   "metadata": {},
   "source": [
    "If we run the pseudo-code above with a real username, we may be unable to login as that user. Depending on the configuration of our PostgreSQL instance, we may either be unable to login entirely, or will only be able to login when our system user name is the same as the PostgreSQL user name we want to login as. We can get around this by creating a password -- We'll then be able to login using the password. \n",
    "\n",
    "`CREATE ROLE userName WITH LOGIN PASSWORD `password`;`"
   ]
  },
  {
   "cell_type": "markdown",
   "metadata": {},
   "source": [
    "If the user needs to be able to create databases, we can add that ability in with the `CREATEDB` statement:\n",
    "\n",
    "`CREATE ROLE userName WITH CREATEDB LOGIN PASSWORD 'password'`"
   ]
  },
  {
   "cell_type": "markdown",
   "metadata": {},
   "source": [
    "We can keep modifying how the user is created by adding statements after the `WITH` statement. Some other statements we can add are:\n",
    "\n",
    "* `CREATEROLE` -- allows the user to create other users.\n",
    "* `SUPERUSER` -- makes the user a superuser\n",
    "\n",
    "For a full list of statements that can be added, see [here](https://www.postgresql.org/docs/9.4/sql-createrole.html)."
   ]
  },
  {
   "cell_type": "markdown",
   "metadata": {},
   "source": [
    "* Create a user called **sec** with the following modifying statements:\n",
    "    * LOGIN\n",
    "    * PASSWORD 'test'\n",
    "    * CREATEDB\n",
    "* List all the users using `\\du`.\n",
    "\n",
    "`CREATE ROLE sec WITH LOGIN CREATEDB PASSWORD 'test';`"
   ]
  },
  {
   "cell_type": "markdown",
   "metadata": {},
   "source": [
    "When users are created, they don't have any ability, or permissions, to **access tables** in existing databases. This is done for security reasons, so that all permissions are issued explicitly instead of being unexpected.\n",
    "\n",
    "We can issue permissions to a user using the [GRANT](https://www.postgresql.org/docs/9.4/sql-grant.html) statement. The `GRANT` statement will issue permissions to access certain tables in a database to a certain user. \n",
    "\n",
    "We can allow a user to perform `SELECT` queries on a given table like this:\n",
    "\n",
    "\n",
    "`GRANT SELECT ON tableName TO userName;`"
   ]
  },
  {
   "cell_type": "markdown",
   "metadata": {},
   "source": [
    "If we want to grant different types of permissions, we can separate them with commas. The below query will allow a given user to;\n",
    "\n",
    "* query data from a table, \n",
    "* update rows in the table, \n",
    "* insert rows into the table, and \n",
    "* delete rows from the table:\n",
    "\n",
    "`GRANT SELECT, INSERT, UPDATE, DELETE ON tableName TO userName;`\n",
    "\n",
    "A shortcut for this is to use the ALL PRIVILEGES statement:\n",
    "\n",
    "`GRANT ALL PRIVILEGES ON tableName TO userName;`"
   ]
  },
  {
   "cell_type": "markdown",
   "metadata": {},
   "source": [
    "We can use the psql `\\dp` command to find out what privileges have been granted to users for a specific table:\n",
    "\n",
    "`\\dp tableName`"
   ]
  },
  {
   "cell_type": "markdown",
   "metadata": {},
   "source": [
    "* Start psql and connect to the **bank_accounts** database.\n",
    "* Grant all privileges on the table deposits to the user **sec**.\n",
    "* List all the privileges for deposits using \\dp.\n",
    "* Exit psql.\n",
    "\n",
    "`psql -d bank_accounts <<EOF\n",
    "GRANT ALL PRIVILEGES ON deposits TO sec;\n",
    "EOF`"
   ]
  },
  {
   "cell_type": "markdown",
   "metadata": {},
   "source": [
    "There are times when we'll want to remove permissions that we granted to a user previously. Permissions can be removed using the [REVOKE](https://www.postgresql.org/docs/9.4/sql-revoke.html) statement. \n",
    "\n",
    "The `REVOKE` statement enables us to take back any permissions given via the `GRANT` statement. We can revoke the ability for a user to run queries:\n",
    "\n",
    "`REVOKE SELECT ON tableName FROM userName;`"
   ]
  },
  {
   "cell_type": "markdown",
   "metadata": {},
   "source": [
    "If we want to revoke different types of permissions, we can separate them with commas. \n",
    "\n",
    "`REVOKE SELECT, INSERT, UPDATE, DELETE ON tableName FROM userName;`\n",
    "\n",
    "A shortcut for this is to use the ALL PRIVILEGES statement:\n",
    "\n",
    "`REVOKE ALL PRIVILEGES ON tableName FROM userName;`"
   ]
  },
  {
   "cell_type": "markdown",
   "metadata": {},
   "source": [
    "* Start psql and connect to the **bank_accounts** database.\n",
    "* Revoke all privileges on the table **deposits** from the user **sec**.\n",
    "* List all the privileges for deposits using `\\dp`.\n",
    "* Exit psql.\n",
    "\n",
    "`psql -d bank_accounts <<EOF\n",
    "REVOKE ALL PRIVILEGES ON deposits FROM sec;\n",
    "EOF`"
   ]
  },
  {
   "cell_type": "markdown",
   "metadata": {},
   "source": [
    "# SUPERUSER"
   ]
  },
  {
   "cell_type": "markdown",
   "metadata": {},
   "source": [
    "A superuser is a special type of user that overrides all access restrictions. Superusers can perform any function in a database, and a user should only be made a superuser in special cases. \n",
    "\n",
    "Adding the `SUPERUSER` statement to a `CREATE ROLE` statement will make a user a superuser:\n",
    "\n",
    "`CREATE ROLE userName WITH SUPERUSER;`\n",
    "\n",
    "We can also setup login and a password for the superuser:\n",
    "\n",
    "`CREATE ROLE userName WITH LOGIN PASSWORD 'password' SUPERUSER;`"
   ]
  },
  {
   "cell_type": "code",
   "execution_count": 1,
   "metadata": {},
   "outputs": [],
   "source": [
    "# Start psql.\n",
    "# Create a user called aig with the following modifying statements:\n",
    "# LOGIN\n",
    "# PASSWORD 'test'\n",
    "# SUPERUSER\n",
    "# List all the users using \\du.\n",
    "# Exit psql."
   ]
  },
  {
   "cell_type": "markdown",
   "metadata": {},
   "source": [
    "###### Restoring server postgress on original condition by Dropping database and users\n",
    "\n",
    "1. Drop Database `bank_accounts`;\n",
    "2.  Drop role `sec`;\n",
    "3.  Drop role `aig`;\n",
    "4. Drop table `deposits`;"
   ]
  },
  {
   "cell_type": "code",
   "execution_count": null,
   "metadata": {},
   "outputs": [],
   "source": []
  }
 ],
 "metadata": {
  "kernelspec": {
   "display_name": "Python 3",
   "language": "python",
   "name": "python3"
  },
  "language_info": {
   "codemirror_mode": {
    "name": "ipython",
    "version": 3
   },
   "file_extension": ".py",
   "mimetype": "text/x-python",
   "name": "python",
   "nbconvert_exporter": "python",
   "pygments_lexer": "ipython3",
   "version": "3.7.6"
  }
 },
 "nbformat": 4,
 "nbformat_minor": 2
}
