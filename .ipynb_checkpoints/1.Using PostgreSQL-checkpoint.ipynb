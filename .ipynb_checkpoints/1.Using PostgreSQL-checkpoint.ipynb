{
 "cells": [
  {
   "cell_type": "markdown",
   "metadata": {},
   "source": [
    "So far, we've been using a database engine called **SQLite**. SQLite is one of the most common database engines, and has many advantages:\n",
    "\n",
    "* The database is stored in a single file, making it portable.\n",
    "* We can use a SQLite database directly from Python, and don't need a separate program running.\n",
    "* It implements most SQL commands, enabling us to use most of the statements we're familiar with."
   ]
  },
  {
   "cell_type": "markdown",
   "metadata": {},
   "source": [
    "However, particularly when developing larger applications, **SQLite** has a few downsides that make other database engines more attractive:\n",
    "\n",
    "* Only one process at a time can write to the database. When we have a complex web application, we may have multiple processes updating information in the database at the same time. For example, on Facebook, one process might handle updating user information, and another might handle generating the news feed.\n",
    "* We can't take advantage of performance features, such as **caching**. Because a **SQLite database** is a single file, and it doesn't require a special program to run, it can't have performance optimizations like **caching**. When running a site like `Facebook` that has a ton of traffic, it's important to be able to lookup data quickly.\n",
    "* **SQLite** doesn't have any built-in security. With a production website, it's common to want some people to be able to modify tables in a database (`write`), and others to only be able to make `SELECT` queries to tables in the database (`read`). This is because giving someone **write access** to the database can be a security risk, in that they can update or overwrite data. **SQLite** doesn't allow for restricting access to a database in this way."
   ]
  },
  {
   "cell_type": "markdown",
   "metadata": {},
   "source": [
    "In general, `SQLite` is good in cases where having a small and simple database engine is important. `SQLite` is used extensively in **embedded applications**, such as `Android` and `iOS` applications.\n",
    "\n",
    "In cases where there will be **multiple users or performance** is important, [PostgreSQL](https://www.postgresql.org/) is the most commonly used database engine. **PostgreSQL** is **open source**, and is **free to download and use**."
   ]
  },
  {
   "cell_type": "markdown",
   "metadata": {},
   "source": [
    "At a high level, `PostgreSQL` consists of two pieces, a **server** and **clients**. \n",
    "\n",
    "* The server is a program that manages databases and handles queries.\n",
    "* Clients communicate back and forth to the server. \n",
    "\n",
    "Only the **server** ever directly accesses the databases -- the **clients** can only make requests to the **server**. "
   ]
  },
  {
   "cell_type": "markdown",
   "metadata": {},
   "source": [
    "One of the advantages of this model is that multiple clients can communicate with the server at the same time. This allows multiple processes to write to a database at the same time."
   ]
  },
  {
   "cell_type": "markdown",
   "metadata": {},
   "source": [
    "It's possible to run a PostgreSQL server either remotely or locally. \n",
    "* If it's remote, we connect to it via internet. \n",
    "* If it's local, we connect to it on our own machine. \n",
    "\n",
    "In both cases, we'll be connecting to PostgreSQL via a system port."
   ]
  },
  {
   "cell_type": "markdown",
   "metadata": {},
   "source": [
    "One way to think of ports is to think of receiving mail at an apartment building. Let's say 5 people live in an apartment building, but they only have a single address. All incoming mail will come to the address, then have to be sorted out and given to each person:\n",
    "\n",
    "All incoming mail is merged into a single pile, because the whole apartment building only has one address. Each apartment occupant then has to sort through the pile to find their mail. Not only is this inefficient, it also results in some apartments getting mail that isn't theirs by accident."
   ]
  },
  {
   "cell_type": "markdown",
   "metadata": {},
   "source": [
    "We can make life easier for everyone by giving each apartment its own address:\n",
    "\n",
    "Now, nobody has to sort mail, and it's unlikely that someone will accidentally get a message that isn't theirs."
   ]
  },
  {
   "cell_type": "markdown",
   "metadata": {},
   "source": [
    "Every computer runs dozens to hundreds of programs. Many of these programs can accept incoming connections from the internet. For instance, web servers run on computers and accept connections from people all over the world. Once the connections are created, data is sent along the connections."
   ]
  },
  {
   "cell_type": "markdown",
   "metadata": {},
   "source": [
    "If every program received data in the same stream, we'd have a similar situation to all of the apartments only having one address. Each program would be responsible for figuring out which messages were for it, and many messages would be sent to the wrong program. It would be impossible to know which program we were communicating with when we connected to the computer.\n",
    "\n",
    "One way to avoid this is for each program to have its own address. A system port is similar to an apartment number in that a port on a computer can only be used by one server at a time. For example, web servers run on port 80. Any incoming messages on this computer port are automatically sent to the program.\n",
    "\n",
    "By default, `PostgreSQL` uses **port 5432** to communicate with the outside world. If we start a PostgreSQL server, it will listen for incoming connections on port 5432. Clients will be able to connect to the server using this port. \n",
    "\n",
    "If we start a client, we'll have to specify which server to connect to, along with the port to connect to."
   ]
  },
  {
   "cell_type": "markdown",
   "metadata": {},
   "source": [
    "There are many clients for **PostgreSQL**, including [graphical clients](https://wiki.postgresql.org/wiki/Community_Guide_to_PostgreSQL_GUI_Tools). The most common Python client for PostgreSQL is called [psycopg2](http://initd.org/psycopg/). Connecting to a PostgreSQL database using `psycopg2` is similar to connecting to a **SQLite database** using the `sqlite3` library. `psycopg2` also uses **Connection** and **Cursor** objects."
   ]
  },
  {
   "cell_type": "markdown",
   "metadata": {},
   "source": [
    "We'd connect to a database using `psycopg2` like this:\n",
    "\n",
    "`import psycopg2\n",
    " conn = psycopg2.connect(\"dbname=postgres user=postgres\")\n",
    " cur = conn.cursor()`"
   ]
  },
  {
   "cell_type": "markdown",
   "metadata": {},
   "source": [
    "We have to specify both a database name and a user name. A PostgreSQL server can have multiple databases and multiple users, so we need to specify which user we're connecting as, and which database we're connecting to."
   ]
  },
  {
   "cell_type": "markdown",
   "metadata": {},
   "source": [
    "When **PostgreSQL** is first installed, the default user account is called **postgres**, with an associated database called **postgres**.\n",
    "\n",
    "We may also notice that we didn't specify a server to connect to. **Psycopg2** will default to connecting to port **5432** on the current computer."
   ]
  },
  {
   "cell_type": "markdown",
   "metadata": {},
   "source": [
    "When we're done with a Connection object, we should close it to avoid issues where one connection prevents another from executing a query. We can close a connection like this:\n",
    "\n",
    "`conn.close()`"
   ]
  },
  {
   "cell_type": "code",
   "execution_count": 3,
   "metadata": {},
   "outputs": [
    {
     "name": "stdout",
     "output_type": "stream",
     "text": [
      "Collecting psycopg2\n",
      "  Downloading psycopg2-2.8.6-cp37-cp37m-win_amd64.whl (1.1 MB)\n",
      "Installing collected packages: psycopg2\n",
      "Successfully installed psycopg2-2.8.6\n",
      "Note: you may need to restart the kernel to use updated packages.\n"
     ]
    }
   ],
   "source": [
    "pip install psycopg2"
   ]
  },
  {
   "cell_type": "code",
   "execution_count": 4,
   "metadata": {},
   "outputs": [],
   "source": [
    "import psycopg2\n",
    "import sqlite3 as sql"
   ]
  },
  {
   "cell_type": "code",
   "execution_count": 5,
   "metadata": {},
   "outputs": [
    {
     "name": "stdout",
     "output_type": "stream",
     "text": [
      "<cursor object at 0x00000210791BCC88; closed: 0>\n"
     ]
    }
   ],
   "source": [
    "import psycopg2\n",
    "conn = psycopg2.connect(\"dbname=postgres user=postgres password = waqas1986ali\")\n",
    "cur = conn.cursor() # Initialize a Cursor object from the connection.\n",
    "print(cur)\n",
    "conn.close()                   "
   ]
  },
  {
   "cell_type": "raw",
   "metadata": {},
   "source": [
    "Once we've connected to a database, we can create a table inside that database. \n",
    "\n",
    "CREATE TABLE tableName(\n",
    "   column1 dataType1 PRIMARY KEY,\n",
    "   column2 dataType2,\n",
    "   column3 dataType3,\n",
    "   ...\n",
    ");\n",
    "\n",
    "In order to execute the query, we can use the execute method of the Cursor object:\n",
    "\n",
    "conn = psycopg2.connect(\"dbname=dq user=dq\")\n",
    "cur = conn.cursor()\n",
    "cur.execute(\"SELECT * FROM notes;\")\n"
   ]
  },
  {
   "cell_type": "code",
   "execution_count": 46,
   "metadata": {},
   "outputs": [],
   "source": [
    "#  Write a SQL query that creates a table called notes in the database,\n",
    "# with the following columns and data types:\n",
    "#  id -- integer data type, and is a primary key.\n",
    "#  body -- text data type.\n",
    "#  title -- text data type.\n",
    "\n",
    "conn = psycopg2.connect(\"dbname=postgres user=postgres password = waqas1986ali\")\n",
    "cur = conn.cursor()\n",
    "cur.execute(\"\"\"Create Table If not Exists notes(\n",
    "                id Integer Primary Key,\n",
    "                body Text,\n",
    "                title Text)\"\"\")\n",
    "conn.close()"
   ]
  },
  {
   "cell_type": "markdown",
   "metadata": {},
   "source": [
    "If We checked the database postgres now, we would notice that there actually isn't a notes table inside it. This isn't a bug -- it's because of a concept called **SQL transactions**. With SQLite, every query we made that modified the data was immediately executed, and immediately changed the database.\n",
    "\n",
    "With PostgreSQL, we're dealing with multiple users who could be changing the database at the same time. Let's imagine a simple scenario where we're keeping track of accounts for different customers of a bank. We could write a simple query to create a table for this:\n",
    "\n",
    "`CREATE TABLE accounts(\n",
    "   id integer PRIMARY KEY,\n",
    "   name text,\n",
    "   balance float\n",
    ");`"
   ]
  },
  {
   "cell_type": "raw",
   "metadata": {},
   "source": [
    "Let's say we have the following two rows in the table:\n",
    "\n",
    "id    name    balance\n",
    "1     Jim     100\n",
    "2     Sue     200\n",
    "\n",
    "Let's say Sue gives 100 dollars to Jim. We could model this with two queries:\n",
    "\n",
    "UPDATE accounts SET balance=200 WHERE name=\"Jim\";\n",
    "\n",
    "UPDATE accounts SET balance=100 WHERE name=\"Sue\";\n",
    "\n",
    "In the above example, we remove 100 dollars from Sue, and add 100 dollars to Jim. Let's say either the second UPDATE statement has an error in it, the database fails, or another user has a conflicting query. The first query would run properly, but the second would fail. That would result in the following:\n",
    "\n",
    "id    name    balance\n",
    "1     Jim     200\n",
    "2     Sue     200"
   ]
  },
  {
   "cell_type": "markdown",
   "metadata": {},
   "source": [
    "Jim would be credited 100 dollars, but 100 dollars would not be removed from Sue. This would cause the bank to lose money.\n",
    "\n",
    "Transactions prevent this type of behavior by ensuring that all the queries in a transaction block are executed at the same time. If any of the transactions fail, the whole group fails, and no changes are made to the database at all."
   ]
  },
  {
   "cell_type": "markdown",
   "metadata": {},
   "source": [
    "Whenever we open a Connection in `psycopg2`, a new transaction will automatically be created. All queries run up until the [commit](http://initd.org/psycopg/docs/connection.html#connection.commit) method is called will be placed into the same transaction block. When commit is called, the PostgreSQL engine will run all the queries at once."
   ]
  },
  {
   "cell_type": "markdown",
   "metadata": {},
   "source": [
    "If we don't want to apply the changes in the transaction block, we can call the [rollback](http://initd.org/psycopg/docs/connection.html#connection.rollback) method to remove the transaction. Not calling either commit or rollback will cause the transaction to stay in a pending state, and will result in the changes not being applied to the database."
   ]
  },
  {
   "cell_type": "code",
   "execution_count": 47,
   "metadata": {},
   "outputs": [],
   "source": [
    "conn = psycopg2.connect(\"dbname=postgres user=postgres password=waqas1986ali\")\n",
    "cur = conn.cursor()\n",
    "cur.execute(\"\"\"Create Table IF not Exists notes(\n",
    "                id Integer Primary Key,\n",
    "                body Text,\n",
    "                title Text)\"\"\")\n",
    "conn.commit()\n",
    "conn.close()"
   ]
  },
  {
   "cell_type": "markdown",
   "metadata": {},
   "source": [
    "There are cases when we won't want to manage a transaction, and we'll instead want changes right away. This is most common when we're making changes to the database that we want to be guaranteed to happen immediately.\n",
    "\n",
    "Some changes also have such widespread effects that they can't be wrapped inside of a transaction. One example of this is creating a database. When creating a database, we'll need to activate autocommit mode first."
   ]
  },
  {
   "cell_type": "markdown",
   "metadata": {},
   "source": [
    "To activate autocommit mode, we'll need to set the [autocommit](http://initd.org/psycopg/docs/connection.html#connection.autocommit) property of the Connection object to True"
   ]
  },
  {
   "cell_type": "code",
   "execution_count": 48,
   "metadata": {},
   "outputs": [],
   "source": [
    "# Write a SQL query that creates a table called facts in the database, with the following columns and data types:\n",
    "# id -- integer data type, and is a primary key.\n",
    "# country -- text data type.\n",
    "# value -- text data type.\n",
    "conn = psycopg2.connect(\"dbname=postgres user=postgres password=waqas1986ali\")\n",
    "conn.autocommit = True\n",
    "cur = conn.cursor()\n",
    "cur.execute(\"\"\"Create Table IF not Exists facts(\n",
    "                id Integer,\n",
    "                country Text,\n",
    "                value Text)\"\"\")\n",
    "conn.close()"
   ]
  },
  {
   "cell_type": "code",
   "execution_count": 65,
   "metadata": {},
   "outputs": [
    {
     "name": "stdout",
     "output_type": "stream",
     "text": [
      "[(1, 'Do more missions on Dataquest.', 'Dataquest reminder')]\n"
     ]
    }
   ],
   "source": [
    "# Execute a SQL query that inserts a row into the notes table with the following values:\n",
    "# id -- 1\n",
    "# body -- 'Do more missions on Dataquest.'\n",
    "# title -- 'Dataquest reminder'.\n",
    "# Execute a SQL query that selects all of the rows from the notes table.\n",
    "\n",
    "conn = psycopg2.connect(\"dbname=postgres user=postgres password=waqas1986ali\")\n",
    "cur = conn.cursor()\n",
    "\n",
    "cur.execute(\"\"\"Delete From notes\n",
    "               Where id = 1\n",
    "            \"\"\")\n",
    "cur.execute(\"\"\"Insert Into notes\n",
    "               Values\n",
    "               (1,'Do more missions','reminder')\n",
    "               ON Conflict (id)\n",
    "               Do Nothing\"\"\")   # on conflict will work same as ignore in sqlite3\n",
    "conn.commit()\n",
    "cur.execute(\"\"\"select * from notes\"\"\")\n",
    "\n",
    "rows = cur.fetchall()\n",
    "print(rows)"
   ]
  },
  {
   "cell_type": "markdown",
   "metadata": {},
   "source": [
    "One of the most powerful aspects of PostgreSQL is that it enables us to create multiple databases. Different databases are generally used to hold information about different applications. For instance, if we have the following three datasets and applications:\n",
    "\n",
    "* An application that enables us to add and remove friends in our neighborhood.\n",
    "* A dataset on household income worldwide.\n",
    "* An application that allows us to store and share notes."
   ]
  },
  {
   "cell_type": "markdown",
   "metadata": {},
   "source": [
    "We could in theory make different tables for each of these in an existing database. But eventually, we'll reach a point where each application has multiple tables, due to foreign keys and joins. It will get messy to manage all the tables for each application separately. By storing data for a single application in a single database, we encapsulate that application, and make it easier to manage and alter the data for it."
   ]
  },
  {
   "cell_type": "markdown",
   "metadata": {},
   "source": [
    "We can create a database using the `CREATE DATABASE SQL statement`:\n",
    "\n",
    "`CREATE DATABASE dbName;`\n",
    "\n",
    "Here's a concrete example:\n",
    "\n",
    "`CREATE DATABASE notes;`\n",
    "\n",
    "The above SQL command will create a database called **notes**. We can specify the user who will own the database when we create it as well, using the `OWNER statement`:\n",
    "\n",
    "`CREATE DATABASE notes OWNER postgres;`\n",
    "\n",
    "The above statement will create a database called **notes** with the `default postgres user` as the **owner**. The owner of a database is the only one that can access and modify a database, unless they give permission to other users. An exception is superusers who can perform any action on any database without being given permission."
   ]
  },
  {
   "cell_type": "code",
   "execution_count": 58,
   "metadata": {},
   "outputs": [],
   "source": [
    "# Create a database called income where the owner is the user postgres\n",
    "conn = psycopg2.connect(\"\"\"dbname=postgres user=postgres password=waqas1986ali\"\"\")\n",
    "conn.autocommit = True\n",
    "cur = conn.cursor()\n",
    "cur.execute(\"\"\"Drop Database if Exists income\"\"\")  # to avoid error while re run a cell\n",
    "cur.execute(\"\"\"Create Database income Owner postgres;\"\"\")\n",
    "conn.close()"
   ]
  },
  {
   "cell_type": "markdown",
   "metadata": {},
   "source": [
    "We can delete a database using the `DROP DATABASE statement`. The `DROP DATABASE statement` will immediately remove a database, provided the user executing the query has the right permissions. It should be used with caution when working with real data.\n",
    "\n",
    "`DROP DATABASE dbName;`\n",
    "\n",
    "Here's a more concrete example:\n",
    "\n",
    "`DROP DATABASE income;`\n",
    "\n",
    "The above statement will remove the database called `income`, along with any tables it contains."
   ]
  },
  {
   "cell_type": "code",
   "execution_count": 60,
   "metadata": {},
   "outputs": [],
   "source": [
    "conn = psycopg2.connect(\"dbname=postgres user=postgres password=waqas1986ali\")\n",
    "conn.autocommit = True\n",
    "cur = conn.cursor()\n",
    "cur.execute(\"DROP DATABASE income;\")\n",
    "conn.close()"
   ]
  },
  {
   "cell_type": "code",
   "execution_count": null,
   "metadata": {},
   "outputs": [],
   "source": []
  }
 ],
 "metadata": {
  "kernelspec": {
   "display_name": "Python 3",
   "language": "python",
   "name": "python3"
  },
  "language_info": {
   "codemirror_mode": {
    "name": "ipython",
    "version": 3
   },
   "file_extension": ".py",
   "mimetype": "text/x-python",
   "name": "python",
   "nbconvert_exporter": "python",
   "pygments_lexer": "ipython3",
   "version": "3.7.6"
  }
 },
 "nbformat": 4,
 "nbformat_minor": 2
}
